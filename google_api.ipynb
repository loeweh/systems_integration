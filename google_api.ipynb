{
 "cells": [
  {
   "cell_type": "code",
   "execution_count": null,
   "id": "6b829a0a",
   "metadata": {},
   "outputs": [],
   "source": [
    "# Installiere die benötigte Bibliothek, falls noch nicht geschehen\n",
    "!pip install -U google-generativeai"
   ]
  },
  {
   "cell_type": "code",
   "execution_count": null,
   "id": "ff5baff7",
   "metadata": {},
   "outputs": [],
   "source": [
    "import google.generativeai as genai\n",
    "import os"
   ]
  },
  {
   "cell_type": "code",
   "execution_count": null,
   "id": "d5167455",
   "metadata": {},
   "outputs": [],
   "source": [
    "# Hier deinen Google AI Studio API-Schlüssel einfügen\n",
    "# Stelle sicher, dass du ihn sicher verwahrst und nicht öffentlich teilst!\n",
    "from getpass import getpass\n",
    "GOOGLE_API_KEY = getpass(\"YOUR_GITHUB_PERSONAL_TOKEN\")"
   ]
  },
  {
   "cell_type": "code",
   "execution_count": null,
   "id": "b2bed088",
   "metadata": {},
   "outputs": [],
   "source": [
    "# Konfiguriere die Generative AI API mit deinem Schlüssel\n",
    "genai.configure(api_key=GOOGLE_API_KEY)"
   ]
  },
  {
   "cell_type": "code",
   "execution_count": null,
   "id": "ca1c18f0",
   "metadata": {},
   "outputs": [],
   "source": [
    "# Wähle das Modell Gemini 2.0 Flash aus\n",
    "model = genai.GenerativeModel('gemini-2.0-flash')"
   ]
  },
  {
   "cell_type": "code",
   "execution_count": null,
   "id": "062debe9",
   "metadata": {},
   "outputs": [],
   "source": [
    "# --- Schritt 1: Definiere deinen Prompt ---\n",
    "prompt_text = \"Fasse den folgenden Text in einem Satz zusammen: Künstliche Intelligenz (KI) ist ein weites Feld der Informatik, das sich mit der Erstellung intelligenter Agenten befasst, d. h. Systemen, die in der Lage sind, zu तर्कieren, zu lernen und zu handeln wie Menschen.\""
   ]
  },
  {
   "cell_type": "code",
   "execution_count": null,
   "id": "c80078e4",
   "metadata": {},
   "outputs": [],
   "source": [
    "# --- Schritt 2: Generiere eine Antwort mit dem Prompt ---\n",
    "try:\n",
    "    response = model.generate_content(prompt_text)\n",
    "except Exception as e:\n",
    "    print(f\"Ein Fehler ist aufgetreten: {e}\")"
   ]
  },
  {
   "cell_type": "code",
   "execution_count": null,
   "id": "57bb55b7",
   "metadata": {},
   "outputs": [],
   "source": [
    "# --- Schritt 3: Verarbeite und zeige die Antwort an ---\n",
    "try:\n",
    "    print(\"Antwort von Gemini 2.0 Flash:\")\n",
    "    print(response.text)\n",
    "except NameError:\n",
    "    print(\"Die Antwort konnte nicht angezeigt werden, da möglicherweise ein Fehler bei der Generierung aufgetreten ist.\")"
   ]
  },
  {
   "cell_type": "code",
   "execution_count": null,
   "id": "6d1751ec",
   "metadata": {},
   "outputs": [],
   "source": [
    "# --- Optional: Weitere Schritte ---\n",
    "\n",
    "# Du kannst den Prompt variieren und die Antwort erneut generieren:\n",
    "prompt_text_2 = \"Schreibe eine kurze Geschichte (ca. 50 Wörter) über eine Katze, die einen Computer benutzt.\""
   ]
  },
  {
   "cell_type": "code",
   "execution_count": null,
   "id": "84dbd0c4",
   "metadata": {},
   "outputs": [],
   "source": [
    "try:\n",
    "    response_2 = model.generate_content(prompt_text_2)\n",
    "except Exception as e:\n",
    "    print(f\"Ein Fehler ist aufgetreten: {e}\")"
   ]
  },
  {
   "cell_type": "code",
   "execution_count": null,
   "id": "a996c7fc",
   "metadata": {},
   "outputs": [],
   "source": [
    "try:\n",
    "    print(\"\\nZweite Antwort:\")\n",
    "    print(response_2.text)\n",
    "except NameError:\n",
    "    print(\"Die zweite Antwort konnte nicht angezeigt werden, da möglicherweise ein Fehler bei der Generierung aufgetreten ist.\")"
   ]
  },
  {
   "cell_type": "code",
   "execution_count": null,
   "id": "102265b9",
   "metadata": {},
   "outputs": [],
   "source": [
    "# Du kannst auch verschiedene Parameter des Modells steuern (siehe Dokumentation),\n",
    "# wie z.B. die maximale Anzahl von Tokens in der Antwort."
   ]
  }
 ],
 "metadata": {
  "kernelspec": {
   "display_name": "Python 3 (ipykernel)",
   "language": "python",
   "name": "python3"
  },
  "language_info": {
   "codemirror_mode": {
    "name": "ipython",
    "version": 3
   },
   "file_extension": ".py",
   "mimetype": "text/x-python",
   "name": "python",
   "nbconvert_exporter": "python",
   "pygments_lexer": "ipython3",
   "version": "3.13.2"
  }
 },
 "nbformat": 4,
 "nbformat_minor": 5
}
